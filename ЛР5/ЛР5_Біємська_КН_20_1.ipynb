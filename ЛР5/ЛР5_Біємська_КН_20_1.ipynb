{
  "cells": [
    {
      "cell_type": "markdown",
      "metadata": {
        "id": "r4wp5mQ6a9Mw"
      },
      "source": [
        "## Лабораторная 3: метод ближайших соседей (kNN)"
      ]
    },
    {
      "cell_type": "markdown",
      "metadata": {
        "id": "w7znpd5ha9M2"
      },
      "source": [
        "В рамках этого занятия мы будем создавать модель для предсказания выживших пассажиров на \"Титанике\" (классическое учебное Kaggle [соревнование](https://www.kaggle.com/c/titanic)).\n",
        "\n",
        "![Титаник](http://staff.mmcs.sfedu.ru/~sguda/MachineLearning/titanic.png)\n",
        "\n",
        "## 1"
      ]
    },
    {
      "cell_type": "markdown",
      "metadata": {
        "id": "iPVXlK3pa9M3"
      },
      "source": [
        "Загрузите данные о погибших в катастрофе с \"Титаником\". Целевым признаком здесь является факт спасения пассажира. Посмотрите на данные."
      ]
    },
    {
      "cell_type": "code",
      "execution_count": 3,
      "metadata": {
        "id": "qwAvS0Ena9M3"
      },
      "outputs": [],
      "source": [
        "import pandas as pd"
      ]
    },
    {
      "cell_type": "code",
      "execution_count": 4,
      "metadata": {
        "id": "KufnauzOa9M4"
      },
      "outputs": [],
      "source": [
        "import io"
      ]
    },
    {
      "cell_type": "code",
      "execution_count": 5,
      "metadata": {
        "id": "hoIWIHFGa9M5",
        "colab": {
          "base_uri": "https://localhost:8080/",
          "height": 73
        },
        "outputId": "4d421b32-e128-49bd-a95c-facb94d4fe4f"
      },
      "outputs": [
        {
          "output_type": "display_data",
          "data": {
            "text/plain": [
              "<IPython.core.display.HTML object>"
            ],
            "text/html": [
              "\n",
              "     <input type=\"file\" id=\"files-ddb392cb-62d8-4acb-afd9-fda14cd5100c\" name=\"files[]\" multiple disabled\n",
              "        style=\"border:none\" />\n",
              "     <output id=\"result-ddb392cb-62d8-4acb-afd9-fda14cd5100c\">\n",
              "      Upload widget is only available when the cell has been executed in the\n",
              "      current browser session. Please rerun this cell to enable.\n",
              "      </output>\n",
              "      <script>// Copyright 2017 Google LLC\n",
              "//\n",
              "// Licensed under the Apache License, Version 2.0 (the \"License\");\n",
              "// you may not use this file except in compliance with the License.\n",
              "// You may obtain a copy of the License at\n",
              "//\n",
              "//      http://www.apache.org/licenses/LICENSE-2.0\n",
              "//\n",
              "// Unless required by applicable law or agreed to in writing, software\n",
              "// distributed under the License is distributed on an \"AS IS\" BASIS,\n",
              "// WITHOUT WARRANTIES OR CONDITIONS OF ANY KIND, either express or implied.\n",
              "// See the License for the specific language governing permissions and\n",
              "// limitations under the License.\n",
              "\n",
              "/**\n",
              " * @fileoverview Helpers for google.colab Python module.\n",
              " */\n",
              "(function(scope) {\n",
              "function span(text, styleAttributes = {}) {\n",
              "  const element = document.createElement('span');\n",
              "  element.textContent = text;\n",
              "  for (const key of Object.keys(styleAttributes)) {\n",
              "    element.style[key] = styleAttributes[key];\n",
              "  }\n",
              "  return element;\n",
              "}\n",
              "\n",
              "// Max number of bytes which will be uploaded at a time.\n",
              "const MAX_PAYLOAD_SIZE = 100 * 1024;\n",
              "\n",
              "function _uploadFiles(inputId, outputId) {\n",
              "  const steps = uploadFilesStep(inputId, outputId);\n",
              "  const outputElement = document.getElementById(outputId);\n",
              "  // Cache steps on the outputElement to make it available for the next call\n",
              "  // to uploadFilesContinue from Python.\n",
              "  outputElement.steps = steps;\n",
              "\n",
              "  return _uploadFilesContinue(outputId);\n",
              "}\n",
              "\n",
              "// This is roughly an async generator (not supported in the browser yet),\n",
              "// where there are multiple asynchronous steps and the Python side is going\n",
              "// to poll for completion of each step.\n",
              "// This uses a Promise to block the python side on completion of each step,\n",
              "// then passes the result of the previous step as the input to the next step.\n",
              "function _uploadFilesContinue(outputId) {\n",
              "  const outputElement = document.getElementById(outputId);\n",
              "  const steps = outputElement.steps;\n",
              "\n",
              "  const next = steps.next(outputElement.lastPromiseValue);\n",
              "  return Promise.resolve(next.value.promise).then((value) => {\n",
              "    // Cache the last promise value to make it available to the next\n",
              "    // step of the generator.\n",
              "    outputElement.lastPromiseValue = value;\n",
              "    return next.value.response;\n",
              "  });\n",
              "}\n",
              "\n",
              "/**\n",
              " * Generator function which is called between each async step of the upload\n",
              " * process.\n",
              " * @param {string} inputId Element ID of the input file picker element.\n",
              " * @param {string} outputId Element ID of the output display.\n",
              " * @return {!Iterable<!Object>} Iterable of next steps.\n",
              " */\n",
              "function* uploadFilesStep(inputId, outputId) {\n",
              "  const inputElement = document.getElementById(inputId);\n",
              "  inputElement.disabled = false;\n",
              "\n",
              "  const outputElement = document.getElementById(outputId);\n",
              "  outputElement.innerHTML = '';\n",
              "\n",
              "  const pickedPromise = new Promise((resolve) => {\n",
              "    inputElement.addEventListener('change', (e) => {\n",
              "      resolve(e.target.files);\n",
              "    });\n",
              "  });\n",
              "\n",
              "  const cancel = document.createElement('button');\n",
              "  inputElement.parentElement.appendChild(cancel);\n",
              "  cancel.textContent = 'Cancel upload';\n",
              "  const cancelPromise = new Promise((resolve) => {\n",
              "    cancel.onclick = () => {\n",
              "      resolve(null);\n",
              "    };\n",
              "  });\n",
              "\n",
              "  // Wait for the user to pick the files.\n",
              "  const files = yield {\n",
              "    promise: Promise.race([pickedPromise, cancelPromise]),\n",
              "    response: {\n",
              "      action: 'starting',\n",
              "    }\n",
              "  };\n",
              "\n",
              "  cancel.remove();\n",
              "\n",
              "  // Disable the input element since further picks are not allowed.\n",
              "  inputElement.disabled = true;\n",
              "\n",
              "  if (!files) {\n",
              "    return {\n",
              "      response: {\n",
              "        action: 'complete',\n",
              "      }\n",
              "    };\n",
              "  }\n",
              "\n",
              "  for (const file of files) {\n",
              "    const li = document.createElement('li');\n",
              "    li.append(span(file.name, {fontWeight: 'bold'}));\n",
              "    li.append(span(\n",
              "        `(${file.type || 'n/a'}) - ${file.size} bytes, ` +\n",
              "        `last modified: ${\n",
              "            file.lastModifiedDate ? file.lastModifiedDate.toLocaleDateString() :\n",
              "                                    'n/a'} - `));\n",
              "    const percent = span('0% done');\n",
              "    li.appendChild(percent);\n",
              "\n",
              "    outputElement.appendChild(li);\n",
              "\n",
              "    const fileDataPromise = new Promise((resolve) => {\n",
              "      const reader = new FileReader();\n",
              "      reader.onload = (e) => {\n",
              "        resolve(e.target.result);\n",
              "      };\n",
              "      reader.readAsArrayBuffer(file);\n",
              "    });\n",
              "    // Wait for the data to be ready.\n",
              "    let fileData = yield {\n",
              "      promise: fileDataPromise,\n",
              "      response: {\n",
              "        action: 'continue',\n",
              "      }\n",
              "    };\n",
              "\n",
              "    // Use a chunked sending to avoid message size limits. See b/62115660.\n",
              "    let position = 0;\n",
              "    do {\n",
              "      const length = Math.min(fileData.byteLength - position, MAX_PAYLOAD_SIZE);\n",
              "      const chunk = new Uint8Array(fileData, position, length);\n",
              "      position += length;\n",
              "\n",
              "      const base64 = btoa(String.fromCharCode.apply(null, chunk));\n",
              "      yield {\n",
              "        response: {\n",
              "          action: 'append',\n",
              "          file: file.name,\n",
              "          data: base64,\n",
              "        },\n",
              "      };\n",
              "\n",
              "      let percentDone = fileData.byteLength === 0 ?\n",
              "          100 :\n",
              "          Math.round((position / fileData.byteLength) * 100);\n",
              "      percent.textContent = `${percentDone}% done`;\n",
              "\n",
              "    } while (position < fileData.byteLength);\n",
              "  }\n",
              "\n",
              "  // All done.\n",
              "  yield {\n",
              "    response: {\n",
              "      action: 'complete',\n",
              "    }\n",
              "  };\n",
              "}\n",
              "\n",
              "scope.google = scope.google || {};\n",
              "scope.google.colab = scope.google.colab || {};\n",
              "scope.google.colab._files = {\n",
              "  _uploadFiles,\n",
              "  _uploadFilesContinue,\n",
              "};\n",
              "})(self);\n",
              "</script> "
            ]
          },
          "metadata": {}
        },
        {
          "output_type": "stream",
          "name": "stdout",
          "text": [
            "Saving data.csv to data.csv\n"
          ]
        }
      ],
      "source": [
        "# Загрузка данных\n",
        "from google.colab import files\n",
        "uploaded = files.upload()\n",
        "data = pd.read_csv(io.StringIO(uploaded['data.csv'].decode('utf-8'))) # преобразование байтового объекта в строковый объект"
      ]
    },
    {
      "cell_type": "code",
      "execution_count": 10,
      "metadata": {
        "id": "-0FWXDuna9M5",
        "colab": {
          "base_uri": "https://localhost:8080/"
        },
        "outputId": "3524261f-0a31-4480-d60e-e8cee99232e9"
      },
      "outputs": [
        {
          "output_type": "stream",
          "name": "stdout",
          "text": [
            "   PassengerId  Survived  Pclass  \\\n",
            "0            1         0       3   \n",
            "1            2         1       1   \n",
            "2            3         1       3   \n",
            "3            4         1       1   \n",
            "4            5         0       3   \n",
            "5            6         0       3   \n",
            "6            7         0       1   \n",
            "7            8         0       3   \n",
            "8            9         1       3   \n",
            "9           10         1       2   \n",
            "\n",
            "                                                Name     Sex   Age  SibSp  \\\n",
            "0                            Braund, Mr. Owen Harris    male  22.0      1   \n",
            "1  Cumings, Mrs. John Bradley (Florence Briggs Th...  female  38.0      1   \n",
            "2                             Heikkinen, Miss. Laina  female  26.0      0   \n",
            "3       Futrelle, Mrs. Jacques Heath (Lily May Peel)  female  35.0      1   \n",
            "4                           Allen, Mr. William Henry    male  35.0      0   \n",
            "5                                   Moran, Mr. James    male   NaN      0   \n",
            "6                            McCarthy, Mr. Timothy J    male  54.0      0   \n",
            "7                     Palsson, Master. Gosta Leonard    male   2.0      3   \n",
            "8  Johnson, Mrs. Oscar W (Elisabeth Vilhelmina Berg)  female  27.0      0   \n",
            "9                Nasser, Mrs. Nicholas (Adele Achem)  female  14.0      1   \n",
            "\n",
            "   Parch            Ticket     Fare Cabin Embarked  \n",
            "0      0         A/5 21171   7.2500   NaN        S  \n",
            "1      0          PC 17599  71.2833   C85        C  \n",
            "2      0  STON/O2. 3101282   7.9250   NaN        S  \n",
            "3      0            113803  53.1000  C123        S  \n",
            "4      0            373450   8.0500   NaN        S  \n",
            "5      0            330877   8.4583   NaN        Q  \n",
            "6      0             17463  51.8625   E46        S  \n",
            "7      1            349909  21.0750   NaN        S  \n",
            "8      2            347742  11.1333   NaN        S  \n",
            "9      0            237736  30.0708   NaN        C  \n"
          ]
        }
      ],
      "source": [
        "# Вывод первых 10 строк для просмотра\n",
        "print(data.head(10))"
      ]
    },
    {
      "cell_type": "markdown",
      "metadata": {
        "id": "-Bh2mW0aa9M6"
      },
      "source": [
        "Для простоты исключите пассажиров с неизвестным возрастом и заново перенумеруйте строки\n",
        "\n",
        "*Функции, которые могут пригодиться при решении: `.dropna(subset=['Age']), .reset_index(drop=True)`*"
      ]
    },
    {
      "cell_type": "code",
      "execution_count": 11,
      "metadata": {
        "id": "M5Ype_cca9M6",
        "colab": {
          "base_uri": "https://localhost:8080/"
        },
        "outputId": "efe2c8fa-a142-4726-994d-433b35073d1b"
      },
      "outputs": [
        {
          "output_type": "stream",
          "name": "stdout",
          "text": [
            "   PassengerId  Survived  Pclass  \\\n",
            "0            1         0       3   \n",
            "1            2         1       1   \n",
            "2            3         1       3   \n",
            "3            4         1       1   \n",
            "4            5         0       3   \n",
            "5            7         0       1   \n",
            "6            8         0       3   \n",
            "7            9         1       3   \n",
            "8           10         1       2   \n",
            "9           11         1       3   \n",
            "\n",
            "                                                Name     Sex   Age  SibSp  \\\n",
            "0                            Braund, Mr. Owen Harris    male  22.0      1   \n",
            "1  Cumings, Mrs. John Bradley (Florence Briggs Th...  female  38.0      1   \n",
            "2                             Heikkinen, Miss. Laina  female  26.0      0   \n",
            "3       Futrelle, Mrs. Jacques Heath (Lily May Peel)  female  35.0      1   \n",
            "4                           Allen, Mr. William Henry    male  35.0      0   \n",
            "5                            McCarthy, Mr. Timothy J    male  54.0      0   \n",
            "6                     Palsson, Master. Gosta Leonard    male   2.0      3   \n",
            "7  Johnson, Mrs. Oscar W (Elisabeth Vilhelmina Berg)  female  27.0      0   \n",
            "8                Nasser, Mrs. Nicholas (Adele Achem)  female  14.0      1   \n",
            "9                    Sandstrom, Miss. Marguerite Rut  female   4.0      1   \n",
            "\n",
            "   Parch            Ticket     Fare Cabin Embarked  \n",
            "0      0         A/5 21171   7.2500   NaN        S  \n",
            "1      0          PC 17599  71.2833   C85        C  \n",
            "2      0  STON/O2. 3101282   7.9250   NaN        S  \n",
            "3      0            113803  53.1000  C123        S  \n",
            "4      0            373450   8.0500   NaN        S  \n",
            "5      0             17463  51.8625   E46        S  \n",
            "6      1            349909  21.0750   NaN        S  \n",
            "7      2            347742  11.1333   NaN        S  \n",
            "8      0            237736  30.0708   NaN        C  \n",
            "9      1           PP 9549  16.7000    G6        S  \n"
          ]
        }
      ],
      "source": [
        "# Удаление строк с неизвестным возрастом\n",
        "data = data.dropna(subset=['Age'])\n",
        "\n",
        "# Перенумерация строк\n",
        "data = data.reset_index(drop=True)\n",
        "\n",
        "# Вывод первых 10 строк для просмотра\n",
        "print(data.head(10))"
      ]
    },
    {
      "cell_type": "markdown",
      "metadata": {
        "id": "7S5LBIfDa9M7"
      },
      "source": [
        "## 2\n",
        "\n",
        "Постройте график рассеяния с возрастом в качестве оси абсцисс и ценой билета в качестве оси ординат. Отметьте красным — погибших, зеленым — спасшихся пассажиров. Постройте отдельно 2 графика: для женщин и для мужчин. \n",
        "\n",
        "Выполняется ли для данного множества гипотеза компактности?"
      ]
    },
    {
      "cell_type": "code",
      "execution_count": 39,
      "metadata": {
        "id": "nYeXwtHoa9M7"
      },
      "outputs": [],
      "source": [
        "%matplotlib inline \n",
        "# дозволяє відображати діаграми, створені за допомогою пакета matplotlib, безпосередньо під коміркою, яка їх створила.\n",
        "import matplotlib.pyplot as plt"
      ]
    },
    {
      "cell_type": "code",
      "execution_count": 37,
      "metadata": {
        "id": "a8hxSQ4ya9M8",
        "colab": {
          "base_uri": "https://localhost:8080/",
          "height": 927
        },
        "outputId": "62e0df67-34ef-48a9-8564-4fa7776808b1"
      },
      "outputs": [
        {
          "output_type": "display_data",
          "data": {
            "text/plain": [
              "<Figure size 640x480 with 1 Axes>"
            ],
            "image/png": "[encoded data removed]"
          },
          "metadata": {}
        },
        {
          "output_type": "display_data",
          "data": {
            "text/plain": [
              "<Figure size 640x480 with 1 Axes>"
            ],
            "image/png": "[encoded data removed]"
          },
          "metadata": {}
        }
      ],
      "source": [
        "# График для женщин\n",
        "female = data[data['Sex'] == 'female']\n",
        "survived_female = female[female['Survived'] == 1]\n",
        "died_female = female[female['Survived'] == 0]\n",
        "plt.scatter(survived_female['Age'], survived_female['Fare'], c='g', label='Выжили')\n",
        "plt.scatter(died_female['Age'], died_female['Fare'], c='r', label='Погибли')\n",
        "plt.xlabel('Возраст')\n",
        "plt.ylabel('Цена билета')\n",
        "plt.title('Женщины')\n",
        "plt.legend()\n",
        "plt.show()\n",
        "\n",
        "# График для мужчин\n",
        "male = data[data['Sex'] == 'male']\n",
        "survived_male = male[male['Survived'] == 1]\n",
        "died_male = male[male['Survived'] == 0]\n",
        "plt.scatter(survived_male['Age'], survived_male['Fare'], c='g', label='Выжили')\n",
        "plt.scatter(died_male['Age'], died_male['Fare'], c='r', label='Погибли')\n",
        "plt.xlabel('Возраст')\n",
        "plt.ylabel('Цена билета')\n",
        "plt.title('Мужчины')\n",
        "plt.legend()\n",
        "plt.show()"
      ]
    },
    {
      "cell_type": "markdown",
      "metadata": {
        "id": "h5AO1wAsa9M8"
      },
      "source": [
        "## 3 \n",
        "\n",
        "Для построения модели нам понадобится метрика близости пассажиров. Запрограммируем функцию вычисления расстояния между пассажирами:"
      ]
    },
    {
      "cell_type": "code",
      "execution_count": 29,
      "metadata": {
        "id": "gM9x6bCEa9M8"
      },
      "outputs": [],
      "source": [
        "def distance(a,b):\n",
        "    d = 0\n",
        "    d += abs(a['Pclass'] - b['Pclass'])\n",
        "    d += a['Sex'] != b['Sex']\n",
        "    d += abs(a['Age'] - b['Age'])\n",
        "    d += abs(a['SibSp'] - b['SibSp'])\n",
        "    d += abs(a['Parch'] - b['Parch'])\n",
        "    d += abs(a['Fare'] - b['Fare'])\n",
        "    d += a['Embarked'] != b['Embarked']\n",
        "    return d"
      ]
    },
    {
      "cell_type": "markdown",
      "metadata": {
        "id": "Zg3yu0kSa9M8"
      },
      "source": [
        "Метод `KNeighborsClassifier` из библиотеки `sklearn` излишне требователен к типам данных. Запрограммируем метод `k` ближайших соседей вручную:"
      ]
    },
    {
      "cell_type": "code",
      "execution_count": 40,
      "metadata": {
        "id": "UXZVHxt6a9M9"
      },
      "outputs": [],
      "source": [
        "import numpy as np\n",
        "import tqdm \n",
        "# створення індикаторів виконання (прогрес)"
      ]
    },
    {
      "cell_type": "code",
      "execution_count": 31,
      "metadata": {
        "id": "4B26L-Qja9M9"
      },
      "outputs": [],
      "source": [
        "def myKNeighborsClassifier(learnData, K, passengerIndexForPrediction):\n",
        "    dists = np.zeros((learnData.shape[0] - 1, 2))\n",
        "    i = 0\n",
        "    for idx, row in learnData.iterrows():\n",
        "        if idx != passengerIndexForPrediction:  #LOO метод контроля ошибки\n",
        "            dists[i][0] = distance(learnData.loc[passengerIndexForPrediction,], row)\n",
        "            dists[i][1] = row['Survived']\n",
        "            i += 1\n",
        "    dists = sorted(dists, key = lambda pair: pair[0])\n",
        "    prediction = 0\n",
        "    for i in range(K): \n",
        "        prediction += dists[i][1]\n",
        "    prediction /= K\n",
        "    return round(prediction)"
      ]
    },
    {
      "cell_type": "markdown",
      "metadata": {
        "id": "mTW7OMBZa9M9"
      },
      "source": [
        "Запустите предсказание для всех пассажиров судна и, используя LOO-контроль ошибки оцените качество классификации:"
      ]
    },
    {
      "cell_type": "code",
      "execution_count": 34,
      "metadata": {
        "id": "Ui-AuLuua9M-",
        "colab": {
          "base_uri": "https://localhost:8080/"
        },
        "outputId": "dbc53921-a0fd-42b0-ff29-97b05ca901c8"
      },
      "outputs": [
        {
          "output_type": "stream",
          "name": "stderr",
          "text": [
            "100%|██████████| 714/714 [03:01<00:00,  3.93it/s]"
          ]
        },
        {
          "output_type": "stream",
          "name": "stdout",
          "text": [
            "0.726890756302521\n"
          ]
        },
        {
          "output_type": "stream",
          "name": "stderr",
          "text": [
            "\n"
          ]
        }
      ],
      "source": [
        "accuracy = 0\n",
        "for idx, row in tqdm.tqdm(data.iterrows(), total=len(data)):\n",
        "    accuracy += row['Survived'] == myKNeighborsClassifier(data, 5, idx)\n",
        "print(accuracy/data.shape[0])"
      ]
    },
    {
      "cell_type": "markdown",
      "metadata": {
        "id": "sLeM-N57a9M-"
      },
      "source": [
        "Подберите слагаемые в метрике, их веса и количество соседей так, чтобы качество классификации было максимальным. \n",
        "\n",
        "Если функция на `python` работает долго, воспользуйтесь ее аналогом на \n",
        "С++:  `KNeighborsClassifier.cpp.` \n",
        "\n",
        "Компиляция на Linux выполняется командой \n",
        "\n",
        "    g++ -O2 KNeighborsClassifier.cpp -o  KNeighborsClassifier\n",
        "\n",
        "\n",
        "Запуск: \n",
        "\n",
        "    ./KNeighborsClassifier\n",
        "    \n",
        "Построившему метрику с наилучшим качеством: +5 бонусных баллов."
      ]
    },
    {
      "cell_type": "code",
      "source": [
        "# Импортируем необходимые библиотеки\n",
        "import numpy as np\n",
        "import tqdm\n",
        "\n",
        "# Инициализируем переменные для лучшей точности и соответствующего значения k\n",
        "best_accuracy = 0\n",
        "best_k = 0\n",
        "\n",
        "# Перебираем k от 1 до 20\n",
        "for k in range(1, 21):\n",
        "    # # Вычисляем точность классификации с использованием myKNeighborsClassifier для каждого объекта выборки\n",
        "    # и сохраняем ее в переменную accuracy\n",
        "    accuracy = (data['Survived'] == np.array([myKNeighborsClassifier(data, k, i) for i in range(len(data))])).sum() / len(data)\n",
        "    if accuracy > best_accuracy:\n",
        "      # # Если текущая точность больше лучшей, то обновляем лучшую точность и соответствующее значение k\n",
        "        best_accuracy = accuracy\n",
        "        best_k = k\n",
        "\n",
        "# Выводим наилучшее значение точности и соответствующее значение k\n",
        "print(\"Best accuracy = {}, Best K = {}\".format(best_accuracy, best_k))\n"
      ],
      "metadata": {
        "id": "bVSAp1PYf_Z8",
        "colab": {
          "base_uri": "https://localhost:8080/"
        },
        "outputId": "a1c8fccd-6289-4f8d-f46f-143cf8f45083"
      },
      "execution_count": 32,
      "outputs": [
        {
          "output_type": "stream",
          "name": "stdout",
          "text": [
            "Best accuracy = 0.7366946778711485, Best K = 9\n"
          ]
        }
      ]
    },
    {
      "cell_type": "markdown",
      "metadata": {
        "id": "wGBCBtYOa9M-"
      },
      "source": [
        "## 4\n",
        "\n",
        "Создайте копию функции `myKNeighborsClassifier` и измените ее так, чтобы она считала выступ объекта. Назовите ее `calcMargin`. \n",
        "\n",
        "Вычислите выступы для всех объектов и выведите информацию о пяти объектах с минимальным выступом (шумовых выбросах) и пяти объектах с максимальным выступом (эталонах). Объясните в комментариях полученные данные."
      ]
    },
    {
      "cell_type": "code",
      "execution_count": 33,
      "metadata": {
        "id": "qL4E1UYLa9M-",
        "colab": {
          "base_uri": "https://localhost:8080/"
        },
        "outputId": "a024c37a-a909-4db7-dde8-d11677be5be3"
      },
      "outputs": [
        {
          "output_type": "stream",
          "name": "stderr",
          "text": [
            "100%|██████████| 714/714 [03:09<00:00,  3.77it/s]"
          ]
        },
        {
          "output_type": "stream",
          "name": "stdout",
          "text": [
            "Min margin outliers:\n",
            "[0.045 0.6   0.4  ]\n",
            "[0.045 0.4   0.6  ]\n",
            "[0.045 0.6   0.4  ]\n",
            "[0.05668 0.6     0.4    ]\n",
            "[0.06668 0.2     0.8    ]\n",
            "Max margin exemplars:\n",
            "[161.92252   1.        0.     ]\n",
            "[161.52252   1.        0.     ]\n",
            "[161.12252   1.        0.     ]\n",
            "[44.82084  0.8      0.2    ]\n",
            "[33.73082  0.6      0.4    ]\n"
          ]
        },
        {
          "output_type": "stream",
          "name": "stderr",
          "text": [
            "\n"
          ]
        }
      ],
      "source": [
        "# Функция для вычисления отступа (margin)\n",
        "# learnData - данные для обучения модели\n",
        "# K - количество соседей\n",
        "# passengerIndexForPrediction - индекс пассажира, для которого вычисляется отступ\n",
        "def calcMargin(learnData, K, passengerIndexForPrediction):\n",
        "  # Создание массива расстояний между пассажиром и остальными\n",
        "    dists = np.zeros((learnData.shape[0] - 1, 2))\n",
        "    i = 0\n",
        "    # Проход по всем записям данных обучающей выборки\n",
        "    for idx, row in learnData.iterrows():\n",
        "      # Если запись не соответствует индексу пассажира для предсказания, то\n",
        "      # добавляем расстояние между пассажирами и выживаемость рассматриваемого пассажира в массив расстояний\n",
        "        if idx != passengerIndexForPrediction:  # LOO метод контроля ошибки\n",
        "            dists[i][0] = distance(learnData.loc[passengerIndexForPrediction,], row)\n",
        "            dists[i][1] = row['Survived']\n",
        "            i += 1\n",
        "    # Сортируем расстояния по возрастанию\n",
        "    dists = sorted(dists, key=lambda pair: pair[0])\n",
        "    # Вычисляем количество эталонных и шумовых объектов\n",
        "    etalonCount = 0\n",
        "    noiseCount = 0\n",
        "    margin = 0\n",
        "    for i in range(K):\n",
        "        margin += dists[i][0]\n",
        "        if dists[i][1] == 1:\n",
        "            etalonCount += 1\n",
        "        else:\n",
        "            noiseCount += 1\n",
        "    # Возвращаем отступ, количество эталонных и шумовых объектов\n",
        "    return (margin/K, etalonCount/K, noiseCount/K)\n",
        "\n",
        "# Создание массива отступов для всех пассажиров в данных\n",
        "margins = np.zeros((data.shape[0], 3))\n",
        "for idx, row in tqdm.tqdm(data.iterrows(), total=len(data)):\n",
        "    margins[idx] = calcMargin(data, 5, idx)\n",
        "\n",
        "# Сортировка пассажиров по возрастанию отступа\n",
        "sortedMargins = sorted(margins, key=lambda triple: triple[0])\n",
        "\n",
        "# Вывод 5 пассажиров с минимальным отступом\n",
        "print(\"Min margin outliers:\")\n",
        "for i in range(5):\n",
        "    print(sortedMargins[i])\n",
        "# Вывод 5 пассажиров с максимальным отступом\n",
        "print(\"Max margin exemplars:\")\n",
        "for i in range(1, 6):\n",
        "    print(sortedMargins[-i])"
      ]
    }
  ],
  "metadata": {
    "kernelspec": {
      "display_name": "Python 3",
      "language": "python",
      "name": "python3"
    },
    "language_info": {
      "codemirror_mode": {
        "name": "ipython",
        "version": 3
      },
      "file_extension": ".py",
      "mimetype": "text/x-python",
      "name": "python",
      "nbconvert_exporter": "python",
      "pygments_lexer": "ipython3",
      "version": "3.7.6"
    },
    "colab": {
      "provenance": []
    }
  },
  "nbformat": 4,
  "nbformat_minor": 0
}