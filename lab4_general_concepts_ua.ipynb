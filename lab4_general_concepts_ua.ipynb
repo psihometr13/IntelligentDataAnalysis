{
  "cells": [
    {
      "cell_type": "markdown",
      "metadata": {
        "id": "view-in-github",
        "colab_type": "text"
      },
      "source": [
        "<a href=\"https://colab.research.google.com/github/psihometr13/IntelligentDataAnalysis/blob/main/lab4_general_concepts_ua.ipynb\" target=\"_parent\"><img src=\"https://colab.research.google.com/assets/colab-badge.svg\" alt=\"Open In Colab\"/></a>"
      ]
    },
    {
      "cell_type": "markdown",
      "metadata": {
        "id": "Lp7puuL6YHpv"
      },
      "source": [
        "### Лабораторная работа 2: основные понятия"
      ]
    },
    {
      "cell_type": "markdown",
      "metadata": {
        "id": "9BKgH-69YHp2"
      },
      "source": [
        "В сегодняшней лабораторной будем работать с данными о проданных на аукционе автомобилях (`Carvana Car Prediction`). Целевым признаком здесь является наличие скрытых продавцом существенных недостатков. \n",
        "\n",
        "Carvana &mdash; компания-перекупщик автомобилей, соответственно, ее задача &mdash; не допустить скупку автомобилей со скрытыми недостатками, так как их впоследствии тяжелее продавать."
      ]
    },
    {
      "cell_type": "markdown",
      "metadata": {
        "id": "An6tMB6EYHp3"
      },
      "source": [
        "## 1"
      ]
    },
    {
      "cell_type": "markdown",
      "metadata": {
        "id": "FlRduWQWYHp3"
      },
      "source": [
        "Загрузите данные о проданных на аукционе автомобилях. Посмотрите на \"сырые\" данные. \n",
        "\n",
        "Просмотрите файл `DataDictionary-ru.txt` и поймите, что означают столбцы матрицы. Выведите статистику по столбцам.\n"
      ]
    },
    {
      "cell_type": "code",
      "execution_count": null,
      "metadata": {
        "id": "__tm4JD4YHp4"
      },
      "outputs": [],
      "source": [
        "import pandas as pd"
      ]
    },
    {
      "cell_type": "code",
      "execution_count": null,
      "metadata": {
        "id": "zWtoEFt2YHp5"
      },
      "outputs": [],
      "source": [
        "# место для кода"
      ]
    },
    {
      "cell_type": "markdown",
      "metadata": {
        "id": "ORMswiSaYHp6"
      },
      "source": [
        "## 2\n",
        "\n",
        "Постройте график рассеяния с пробегом в качестве оси абсцисс и ценой `MMRCurrentRetailAveragePrice` в качестве оси ординат. Автомобили без недостатков отметьте зеленым цветом, со скрытыми недостатками — красным."
      ]
    },
    {
      "cell_type": "code",
      "execution_count": null,
      "metadata": {
        "id": "TqlPNpnQYHp6"
      },
      "outputs": [],
      "source": [
        "%matplotlib inline\n",
        "import matplotlib.pyplot as plt"
      ]
    },
    {
      "cell_type": "code",
      "execution_count": null,
      "metadata": {
        "id": "TJBa3W-uYHp7"
      },
      "outputs": [],
      "source": [
        "# место для кода"
      ]
    },
    {
      "cell_type": "markdown",
      "metadata": {
        "id": "C3x-F-XGYHp7"
      },
      "source": [
        "# Регрессия"
      ]
    },
    {
      "cell_type": "markdown",
      "metadata": {
        "id": "1xKVVSNiYHp7"
      },
      "source": [
        "## 3a\n",
        "\n",
        "Импортируйте из библиотеки `sklearn` все модели машинного обучения:\n",
        "\n",
        "`from sklearn import *`\n",
        "\n",
        "Трактуя задачу о предсказании наличия недостатков как задачу регрессии, натренируйте линейную модель [`LinearRegression`](https://scikit-learn.org/stable/modules/generated/sklearn.linear_model.LinearRegression.html) на каком-нибудь подмножестве признаков (например, тех же `VehOdo` и `MMRCurrentRetailAveragePrice`). \n",
        "\n",
        "С какой проблемой вы столкнулись? Какие способы ее решения вы можете предложить?\n",
        "\n",
        "*Функции, которые могут пригодиться при решении: `.fit(), .loc[], pd.notnull()`*\n",
        "\n",
        "*Создание модели:* `model1 = linear_model.LinearRegression()`\n",
        "\n",
        "*Тренировка:*\n",
        "`model1.fit(x, y)`\n",
        "\n"
      ]
    },
    {
      "cell_type": "code",
      "execution_count": null,
      "metadata": {
        "id": "AGeTRejoYHp8"
      },
      "outputs": [],
      "source": [
        "# место для кода"
      ]
    },
    {
      "cell_type": "markdown",
      "metadata": {
        "id": "S-78ynJzYHp8"
      },
      "source": [
        "## 3b\n",
        "\n",
        "Выполните предсказание для всех объектов обучающей выборки и присвойте результат переменной prediction\n",
        "\n",
        "*Функции, которые могут пригодиться при решении: `model.predict()`*"
      ]
    },
    {
      "cell_type": "code",
      "execution_count": null,
      "metadata": {
        "id": "BldWDM_KYHp8"
      },
      "outputs": [],
      "source": [
        "# место для кода"
      ]
    },
    {
      "cell_type": "markdown",
      "metadata": {
        "id": "wXxTI-7iYHp9"
      },
      "source": [
        "## 3c\n",
        "\n",
        "Преобразуйте получившийся вектор предсказаний `prediction` к значениям `{0,1}`. Это можно сделать, например, используя list comprehensions: https://docs.python.org/3/tutorial/datastructures.html#list-comprehensions \n",
        "\n",
        "`predictionClass = [1 if prediction[i] > 0.5 else 0 for i in range(prediction.shape[0])]`"
      ]
    },
    {
      "cell_type": "code",
      "execution_count": null,
      "metadata": {
        "id": "XAaKh7ujYHp9"
      },
      "outputs": [],
      "source": [
        "# место для кода"
      ]
    },
    {
      "cell_type": "markdown",
      "metadata": {
        "id": "Wufnqr6SYHp9"
      },
      "source": [
        "## 3d\n",
        "\n",
        "Постройте отчет по качеству классификации и матрицу ошибок. Как изменятся отчет и матрица ошибок, если изменить порог в задании 3c (по умолчанию его значение равно 0.5)?\n",
        "\n",
        "*Функции, которые могут пригодиться при решении: `print(metrics.classification_report(...))`, `print(metrics.confusion_matrix(...))`*\n",
        "\n",
        "Функция classification_report для каждого класса объектов считает точность (precision) в этом классе и полноту (recall). Полнота - это процент объектов данного класса, которые ваш метод предсказания тоже отнес к этому классу, среди всех объектов данного класса. Точность (precision) - то же самое, только среди всех объектов, предсказанных для этого класса.\n",
        "\n",
        "Функция confusion_matrix возвращает матрицу с количествами объектов. Номера столбцов матрицы - это номера предсказанных классов, строки - это номера правильных классов. Например, элемент M[0,1] - это количество машин, где на самом деле IsBadBuy = 0, а вы предсказали 1."
      ]
    },
    {
      "cell_type": "code",
      "execution_count": null,
      "metadata": {
        "id": "UfcckE8hYHp-"
      },
      "outputs": [],
      "source": [
        "# место для кода"
      ]
    },
    {
      "cell_type": "markdown",
      "metadata": {
        "id": "tbWmaFxKYHp-"
      },
      "source": [
        "# Классификация\n",
        "\n",
        "## 4a\n",
        "Трактуя задачу как задачу классификации, постройте модель классификации «решающее дерево» глубины 20  (все аналогично линейной регрессии).\n",
        "\n",
        "\n",
        "*Функции, которые могут пригодиться при решении: `tree.DecisionTreeClassifier(max_depth=20) `*"
      ]
    },
    {
      "cell_type": "code",
      "execution_count": null,
      "metadata": {
        "id": "jeh5dkN_YHp-"
      },
      "outputs": [],
      "source": [
        "# место для кода"
      ]
    },
    {
      "cell_type": "markdown",
      "metadata": {
        "id": "l17kQyGNYHp-"
      },
      "source": [
        "## 4b\n",
        "\n",
        "Решающее дерево предсказывает вероятности. С помощью построенной модели рассчитайте вероятности наличия скрываемых недостатков.\n",
        "\n",
        "*Функции, которые могут пригодиться при решении: `model.predict_proba() `*"
      ]
    },
    {
      "cell_type": "code",
      "execution_count": null,
      "metadata": {
        "id": "pvjKeFi2YHp-"
      },
      "outputs": [],
      "source": [
        "# место для кода"
      ]
    },
    {
      "cell_type": "markdown",
      "metadata": {
        "id": "5Or-045yYHp_"
      },
      "source": [
        "## 4c\n",
        "\n",
        "Преобразуйте получившийся вектор предсказаний `prediction` к значениям `{0,1}`. Постройте отчет о классификации и матрицу ошибок. Какой метод оказался лучше?"
      ]
    },
    {
      "cell_type": "code",
      "execution_count": null,
      "metadata": {
        "id": "5TRfz7CYYHp_"
      },
      "outputs": [],
      "source": [
        "# место для кода"
      ]
    },
    {
      "cell_type": "markdown",
      "metadata": {
        "id": "QudDu7kmYHp_"
      },
      "source": [
        "# Кросс-валидация\n",
        "## 5a\n",
        "\n",
        "\n",
        "Разделите исходную выборку на две части, например, используя [slices](https://pythonz.net/references/named/slice/):\n",
        "\n",
        "`dataTrain = data.loc[0:34999,]\n",
        "dataTest = data.loc[35000:69999,]`"
      ]
    },
    {
      "cell_type": "code",
      "execution_count": null,
      "metadata": {
        "id": "5G9wJbfcYHp_"
      },
      "outputs": [],
      "source": [
        "# место для кода"
      ]
    },
    {
      "cell_type": "markdown",
      "metadata": {
        "id": "CXaYiFegYHp_"
      },
      "source": [
        "## 5b\n",
        "\n",
        "Натренируйте решающее дерево на  `dataTrain` и примените к  `dataTrain` и dataTest, вычислив для каждого случая точность предсказания. \n",
        "\n",
        "Проведите несколько экспериментов для различных глубин дерева. Напишите в комментариях, для каких глубин модель недообучена, для каких переобучена и где точка раннего останова.\n",
        "\n",
        "*Функции, которые могут пригодиться при решении: `metrics.accuracy_score() `*"
      ]
    },
    {
      "cell_type": "code",
      "execution_count": null,
      "metadata": {
        "id": "LLApJdhoYHp_"
      },
      "outputs": [],
      "source": [
        "# место для кода"
      ]
    },
    {
      "cell_type": "markdown",
      "metadata": {
        "id": "V5Q6edtdYHqA"
      },
      "source": [
        "# Решающая функция\n",
        "## 6a\n",
        "\n",
        "Вернемся к модели решающего дерева глубины 20, построенного по всей обучающей выборке `data`. Пусть цена ошибки неправильного предсказания 0 равна 1000, а неправильного предсказания 1 — 100.\n",
        "\n",
        "Вычислите функцию потерь &mdash; среднюю ошибку на всей обучающей выборке."
      ]
    },
    {
      "cell_type": "code",
      "execution_count": null,
      "metadata": {
        "id": "Pe3Hj-X3YHqA"
      },
      "outputs": [],
      "source": [
        "# место для кода"
      ]
    },
    {
      "cell_type": "markdown",
      "metadata": {
        "id": "dt9osNa0YHqA"
      },
      "source": [
        "## 6b\n",
        "\n",
        "Выясните, как нужно изменить решающую функцию `[0 if predictionProb[i][0] > 0.5 else 1 for i in range(prediction.shape[0])]`, чтобы функция потерь была минимальна?\n",
        "\n",
        "Найдите оптимальную решающую функцию и минимальное значение функционала потерь методом подбора или пользуясь формулой из лекции 2 (слайд Decision function).\n",
        "\n"
      ]
    },
    {
      "cell_type": "code",
      "execution_count": null,
      "metadata": {
        "id": "G9LqbdKbYHqA"
      },
      "outputs": [],
      "source": [
        "# место для кода"
      ]
    }
  ],
  "metadata": {
    "kernelspec": {
      "display_name": "Python 3",
      "language": "python",
      "name": "python3"
    },
    "language_info": {
      "codemirror_mode": {
        "name": "ipython",
        "version": 3
      },
      "file_extension": ".py",
      "mimetype": "text/x-python",
      "name": "python",
      "nbconvert_exporter": "python",
      "pygments_lexer": "ipython3",
      "version": "3.6.5"
    },
    "colab": {
      "provenance": [],
      "include_colab_link": true
    }
  },
  "nbformat": 4,
  "nbformat_minor": 0
}