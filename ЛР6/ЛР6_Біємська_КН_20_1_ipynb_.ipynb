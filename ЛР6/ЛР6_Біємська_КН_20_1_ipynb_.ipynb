{
  "cells": [
    {
      "cell_type": "markdown",
      "metadata": {
        "id": "EpcXuc0pL5O6"
      },
      "source": [
        "## Лабораторная 4: восстановление плотности распределения"
      ]
    },
    {
      "cell_type": "markdown",
      "metadata": {
        "id": "Et0vVZ2IL5O_"
      },
      "source": [
        "Данными в этом задании являются измерения некоторых проверочных параметров на конвейерах  сборки оборудования Bosh (см. [конкурс](https://www.kaggle.com/c/bosch-production-line-performance) «Bosch Production Line Performance» на Kaggle). \n",
        "\n",
        "Все исходные данные Bosh не помещаются в оперативную память компьютера, поэтому в файле `data.csv` — лишь некоторые признаки. Прочтите данные из файла `data.csv`. Целевым признаком здесь является `Response` — наличие брака в оборудовании. "
      ]
    },
    {
      "cell_type": "code",
      "execution_count": 2,
      "metadata": {
        "id": "rtYXW1yiL5PA"
      },
      "outputs": [],
      "source": [
        "import pandas as pd"
      ]
    },
    {
      "cell_type": "code",
      "execution_count": 3,
      "metadata": {
        "id": "8m9M8aEZL5PC",
        "colab": {
          "base_uri": "https://localhost:8080/",
          "height": 183
        },
        "outputId": "46464800-c278-47e9-bda2-a782b5a68031"
      },
      "outputs": [
        {
          "output_type": "display_data",
          "data": {
            "text/plain": [
              "<IPython.core.display.HTML object>"
            ],
            "text/html": [
              "\n",
              "     <input type=\"file\" id=\"files-3843830a-e26d-4e92-bd7d-63799d019c09\" name=\"files[]\" multiple disabled\n",
              "        style=\"border:none\" />\n",
              "     <output id=\"result-3843830a-e26d-4e92-bd7d-63799d019c09\">\n",
              "      Upload widget is only available when the cell has been executed in the\n",
              "      current browser session. Please rerun this cell to enable.\n",
              "      </output>\n",
              "      <script>// Copyright 2017 Google LLC\n",
              "//\n",
              "// Licensed under the Apache License, Version 2.0 (the \"License\");\n",
              "// you may not use this file except in compliance with the License.\n",
              "// You may obtain a copy of the License at\n",
              "//\n",
              "//      http://www.apache.org/licenses/LICENSE-2.0\n",
              "//\n",
              "// Unless required by applicable law or agreed to in writing, software\n",
              "// distributed under the License is distributed on an \"AS IS\" BASIS,\n",
              "// WITHOUT WARRANTIES OR CONDITIONS OF ANY KIND, either express or implied.\n",
              "// See the License for the specific language governing permissions and\n",
              "// limitations under the License.\n",
              "\n",
              "/**\n",
              " * @fileoverview Helpers for google.colab Python module.\n",
              " */\n",
              "(function(scope) {\n",
              "function span(text, styleAttributes = {}) {\n",
              "  const element = document.createElement('span');\n",
              "  element.textContent = text;\n",
              "  for (const key of Object.keys(styleAttributes)) {\n",
              "    element.style[key] = styleAttributes[key];\n",
              "  }\n",
              "  return element;\n",
              "}\n",
              "\n",
              "// Max number of bytes which will be uploaded at a time.\n",
              "const MAX_PAYLOAD_SIZE = 100 * 1024;\n",
              "\n",
              "function _uploadFiles(inputId, outputId) {\n",
              "  const steps = uploadFilesStep(inputId, outputId);\n",
              "  const outputElement = document.getElementById(outputId);\n",
              "  // Cache steps on the outputElement to make it available for the next call\n",
              "  // to uploadFilesContinue from Python.\n",
              "  outputElement.steps = steps;\n",
              "\n",
              "  return _uploadFilesContinue(outputId);\n",
              "}\n",
              "\n",
              "// This is roughly an async generator (not supported in the browser yet),\n",
              "// where there are multiple asynchronous steps and the Python side is going\n",
              "// to poll for completion of each step.\n",
              "// This uses a Promise to block the python side on completion of each step,\n",
              "// then passes the result of the previous step as the input to the next step.\n",
              "function _uploadFilesContinue(outputId) {\n",
              "  const outputElement = document.getElementById(outputId);\n",
              "  const steps = outputElement.steps;\n",
              "\n",
              "  const next = steps.next(outputElement.lastPromiseValue);\n",
              "  return Promise.resolve(next.value.promise).then((value) => {\n",
              "    // Cache the last promise value to make it available to the next\n",
              "    // step of the generator.\n",
              "    outputElement.lastPromiseValue = value;\n",
              "    return next.value.response;\n",
              "  });\n",
              "}\n",
              "\n",
              "/**\n",
              " * Generator function which is called between each async step of the upload\n",
              " * process.\n",
              " * @param {string} inputId Element ID of the input file picker element.\n",
              " * @param {string} outputId Element ID of the output display.\n",
              " * @return {!Iterable<!Object>} Iterable of next steps.\n",
              " */\n",
              "function* uploadFilesStep(inputId, outputId) {\n",
              "  const inputElement = document.getElementById(inputId);\n",
              "  inputElement.disabled = false;\n",
              "\n",
              "  const outputElement = document.getElementById(outputId);\n",
              "  outputElement.innerHTML = '';\n",
              "\n",
              "  const pickedPromise = new Promise((resolve) => {\n",
              "    inputElement.addEventListener('change', (e) => {\n",
              "      resolve(e.target.files);\n",
              "    });\n",
              "  });\n",
              "\n",
              "  const cancel = document.createElement('button');\n",
              "  inputElement.parentElement.appendChild(cancel);\n",
              "  cancel.textContent = 'Cancel upload';\n",
              "  const cancelPromise = new Promise((resolve) => {\n",
              "    cancel.onclick = () => {\n",
              "      resolve(null);\n",
              "    };\n",
              "  });\n",
              "\n",
              "  // Wait for the user to pick the files.\n",
              "  const files = yield {\n",
              "    promise: Promise.race([pickedPromise, cancelPromise]),\n",
              "    response: {\n",
              "      action: 'starting',\n",
              "    }\n",
              "  };\n",
              "\n",
              "  cancel.remove();\n",
              "\n",
              "  // Disable the input element since further picks are not allowed.\n",
              "  inputElement.disabled = true;\n",
              "\n",
              "  if (!files) {\n",
              "    return {\n",
              "      response: {\n",
              "        action: 'complete',\n",
              "      }\n",
              "    };\n",
              "  }\n",
              "\n",
              "  for (const file of files) {\n",
              "    const li = document.createElement('li');\n",
              "    li.append(span(file.name, {fontWeight: 'bold'}));\n",
              "    li.append(span(\n",
              "        `(${file.type || 'n/a'}) - ${file.size} bytes, ` +\n",
              "        `last modified: ${\n",
              "            file.lastModifiedDate ? file.lastModifiedDate.toLocaleDateString() :\n",
              "                                    'n/a'} - `));\n",
              "    const percent = span('0% done');\n",
              "    li.appendChild(percent);\n",
              "\n",
              "    outputElement.appendChild(li);\n",
              "\n",
              "    const fileDataPromise = new Promise((resolve) => {\n",
              "      const reader = new FileReader();\n",
              "      reader.onload = (e) => {\n",
              "        resolve(e.target.result);\n",
              "      };\n",
              "      reader.readAsArrayBuffer(file);\n",
              "    });\n",
              "    // Wait for the data to be ready.\n",
              "    let fileData = yield {\n",
              "      promise: fileDataPromise,\n",
              "      response: {\n",
              "        action: 'continue',\n",
              "      }\n",
              "    };\n",
              "\n",
              "    // Use a chunked sending to avoid message size limits. See b/62115660.\n",
              "    let position = 0;\n",
              "    do {\n",
              "      const length = Math.min(fileData.byteLength - position, MAX_PAYLOAD_SIZE);\n",
              "      const chunk = new Uint8Array(fileData, position, length);\n",
              "      position += length;\n",
              "\n",
              "      const base64 = btoa(String.fromCharCode.apply(null, chunk));\n",
              "      yield {\n",
              "        response: {\n",
              "          action: 'append',\n",
              "          file: file.name,\n",
              "          data: base64,\n",
              "        },\n",
              "      };\n",
              "\n",
              "      let percentDone = fileData.byteLength === 0 ?\n",
              "          100 :\n",
              "          Math.round((position / fileData.byteLength) * 100);\n",
              "      percent.textContent = `${percentDone}% done`;\n",
              "\n",
              "    } while (position < fileData.byteLength);\n",
              "  }\n",
              "\n",
              "  // All done.\n",
              "  yield {\n",
              "    response: {\n",
              "      action: 'complete',\n",
              "    }\n",
              "  };\n",
              "}\n",
              "\n",
              "scope.google = scope.google || {};\n",
              "scope.google.colab = scope.google.colab || {};\n",
              "scope.google.colab._files = {\n",
              "  _uploadFiles,\n",
              "  _uploadFilesContinue,\n",
              "};\n",
              "})(self);\n",
              "</script> "
            ]
          },
          "metadata": {}
        },
        {
          "output_type": "stream",
          "name": "stdout",
          "text": [
            "Saving data.csv to data (1).csv\n",
            "   L1_S24_F1844  L1_S24_F1846  Response\n",
            "0        -0.123         0.111         0\n",
            "1        -0.269         0.175         0\n",
            "2        -0.058         0.141         0\n",
            "3         0.136        -0.145         0\n",
            "4         0.045        -0.094         0\n"
          ]
        }
      ],
      "source": [
        "import io\n",
        "\n",
        "# Загрузка данных\n",
        "from google.colab import files\n",
        "uploaded = files.upload()\n",
        "data = pd.read_csv(io.StringIO(uploaded['data.csv'].decode('utf-8'))) # преобразование байтового объекта в строковый объект\n",
        "\n",
        "print(data.head())"
      ]
    },
    {
      "cell_type": "markdown",
      "metadata": {
        "id": "2DNMuGo4L5PC"
      },
      "source": [
        "## 1 \n",
        "Постройте на одном графике два приближения к плотности распределения признака `L1_S24_F1846` для `Response = 0` и для `Response = 1`, используя одно из следующих ядер (номер ядра выберите по формуле: `(n mod 6) + 1`, где `n` — ваш номер в списке группы):\n",
        "\n",
        "    1.\tкусочно-постоянное (прямоугольное) -  tophat\n",
        "    2.\tгауссовское -  gaussian\n",
        "    3.\tлинейное (треугольник) -  linear\n",
        "    4.\tкосинусоидальное -  cosine\n",
        "    5.\tквадратичное (Епанечникова) -  epanechnikov\n",
        "    6.\tэкспоненциальное -  exponential\n"
      ]
    },
    {
      "cell_type": "markdown",
      "source": [
        "Номер ядра выберем по формуле: (2 mod 6) + 1, т.е. это будет ядро с номером 3 – линейное (треугольник)."
      ],
      "metadata": {
        "id": "Wuz_0XNqMz9c"
      }
    },
    {
      "cell_type": "markdown",
      "metadata": {
        "id": "t9kiNvfAL5PE"
      },
      "source": [
        "*Help:*\n",
        "\n",
        "    i0 = data['Response'] == 0\n",
        "    kde0 = KernelDensity(kernel='gaussian', bandwidth=0.1).fit(data.loc[i0, 'L1_S24_F1846'].values.reshape(-1, 1))\n",
        "    X_plot = np.linspace(-1, 1, 1000).reshape(-1, 1)\n",
        "    Dens0 = np.exp(kde0.score_samples(X_plot))  # score_samples возвращает логарифм плотности"
      ]
    },
    {
      "cell_type": "code",
      "execution_count": 13,
      "metadata": {
        "id": "FY19vU2VL5PE",
        "colab": {
          "base_uri": "https://localhost:8080/",
          "height": 432
        },
        "outputId": "7f898558-e83b-4382-b1d6-fda9d2ee260b"
      },
      "outputs": [
        {
          "output_type": "display_data",
          "data": {
            "text/plain": [
              "<Figure size 640x480 with 1 Axes>"
            ],
            "image/png": "[encoded data removed]"
          },
          "metadata": {}
        }
      ],
      "source": [
        "from sklearn.neighbors import KernelDensity\n",
        "import numpy as np\n",
        "import matplotlib.pyplot as plt\n",
        "\n",
        "# создаем два флага: i0 для значений Response = 0 и i1 для значений Response = 1\n",
        "i0 = data['Response'] == 0\n",
        "i1 = data['Response'] == 1\n",
        "\n",
        "# применяем метод kernel density estimation (KDE) для оценки плотности вероятности значений\n",
        "# L1_S24_F1846 по каждому классу Response. Создаем объекты kde0 и kde1 с заданными параметрами kernel, bandwidth.\n",
        "# reshape() нужен для преобразования вектора значений в столбец.\n",
        "kde0 = KernelDensity(kernel='linear', bandwidth=0.1).fit(data.loc[i0, 'L1_S24_F1846'].values.reshape(-1, 1))\n",
        "kde1 = KernelDensity(kernel='linear', bandwidth=0.1).fit(data.loc[i1, 'L1_S24_F1846'].values.reshape(-1, 1))\n",
        "\n",
        "# задаем интервал значений для оси x, затем оцениваем плотность вероятности в каждой точке интервала\n",
        "X_plot = np.linspace(-1, 1, 1000).reshape(-1, 1)\n",
        "\n",
        "log_dens0 = kde0.score_samples(X_plot)\n",
        "dens0 = np.exp(log_dens0)\n",
        "\n",
        "log_dens1 = kde1.score_samples(X_plot)\n",
        "dens1 = np.exp(log_dens1)\n",
        "\n",
        "# строим график оцененных плотностей вероятности для каждого класса Response\n",
        "plt.plot(X_plot, dens0, label='Response = 0')\n",
        "plt.plot(X_plot, dens1, label='Response = 1')\n",
        "plt.legend()\n",
        "plt.show()"
      ]
    },
    {
      "cell_type": "markdown",
      "metadata": {
        "id": "pj3MxXHOL5PF"
      },
      "source": [
        "Ответьте в комментариях на вопрос: является ли выборка хорошо разделимой по признаку  `L1_S24_F1846`?"
      ]
    },
    {
      "cell_type": "code",
      "execution_count": 9,
      "metadata": {
        "id": "dBev9-rpL5PF"
      },
      "outputs": [],
      "source": [
        "# На основании построенных графиков плотности распределения можно сделать вывод, что выборка не является хорошо \n",
        "# разделимой по признаку L1_S24_F1846 для Response=0 и Response=1, так как плотности для разных классов в значительной мере перекрываются."
      ]
    },
    {
      "cell_type": "markdown",
      "metadata": {
        "id": "RUTTAwvzL5PG"
      },
      "source": [
        "## 2"
      ]
    },
    {
      "cell_type": "markdown",
      "metadata": {
        "id": "mjG9V40CL5PG"
      },
      "source": [
        "Разбейте выборку `data` на две равные части: тренировочную `dataTrain` и проверочную `dataTest`. "
      ]
    },
    {
      "cell_type": "code",
      "execution_count": 14,
      "metadata": {
        "id": "Ct93zpGIL5PG"
      },
      "outputs": [],
      "source": [
        "dataTrain = data.loc[0:data.shape[0] / 2, ].reset_index(drop=True)\n",
        "dataTest = data.loc[data.shape[0] / 2:data.shape[0], ].reset_index(drop=True)"
      ]
    },
    {
      "cell_type": "markdown",
      "metadata": {
        "id": "oXWFvBpYL5PH"
      },
      "source": [
        "Пользуясь кросс-валидацией, подберите **для каждого класса `Response` (`r=0` и `r=1`)** значение ширины ядра `bandwidth`, при котором логарифм правдоподобия максимален на проверочной выборке.\n",
        "\n",
        "*Help:*\n",
        "\n",
        "    r = 0\n",
        "    kde0 = KernelDensity(kernel='gaussian', bandwidth=0.05)\n",
        "    kde0.fit(dataTrain.loc[dataTrain['Response']==r, 'L1_S24_F1846'].values.reshape(-1, 1))\n",
        "    logProbability0 = kde0.score_samples(dataTest.loc[dataTest['Response']==r, 'L1_S24_F1846'].values.reshape(-1, 1))\n",
        "    logProbability0[np.isinf(logProbability0)] = -100 # заменяем -бесконечность\n",
        "    logLikehood0 = logProbability0.sum()\n",
        "    print(logLikehood0)"
      ]
    },
    {
      "cell_type": "code",
      "execution_count": 19,
      "metadata": {
        "id": "-u0wX7XuL5PH",
        "colab": {
          "base_uri": "https://localhost:8080/"
        },
        "outputId": "60d528a0-aad6-41e9-f4ca-0b33a4714f51"
      },
      "outputs": [
        {
          "output_type": "stream",
          "name": "stdout",
          "text": [
            "20545.783267529725\n",
            "103.98787944779144\n"
          ]
        }
      ],
      "source": [
        "from sklearn.neighbors import KernelDensity\n",
        "from sklearn.model_selection import GridSearchCV\n",
        "\n",
        "# Задаем начальное значение целевой переменной r = 0\n",
        "r = 0\n",
        "# Создаем экземпляр класса KernelDensity с ядром Гаусса и шириной окна 0.05. Обучаем его на тренировочных данных.\n",
        "kde0 = KernelDensity(kernel='gaussian', bandwidth=0.05)\n",
        "kde0.fit(dataTrain.loc[dataTrain['Response']==r, 'L1_S24_F1846'].values.reshape(-1, 1))\n",
        "# Вычисляем логарифмы плотности вероятности для тестовой выборки\n",
        "logProbability0 = kde0.score_samples(dataTest.loc[dataTest['Response']==r, 'L1_S24_F1846'].values.reshape(-1, 1))\n",
        "# Заменяем бесконечные значения в массиве логарифмов плотности на -100\n",
        "logProbability0[np.isinf(logProbability0)] = -100 # заменяем -бесконечность\n",
        "# Вычисляем сумму логарифмов плотности вероятности\n",
        "logLikehood0 = logProbability0.sum()\n",
        "# Выводим на экран значение логарифма правдоподобия для целевой переменной r = 0\n",
        "print(logLikehood0)\n",
        "\n",
        "# Задаем значение целевой переменной r = 1\n",
        "r = 1\n",
        "# Создаем экземпляр класса KernelDensity с ядром Гаусса и шириной окна 0.05. Обучаем его на тренировочных данных.\n",
        "kde1 = KernelDensity(kernel='gaussian', bandwidth=0.05)\n",
        "kde1.fit(dataTrain.loc[dataTrain['Response']==r, 'L1_S24_F1846'].values.reshape(-1, 1))\n",
        "# Вычисляем логарифмы плотности вероятности для тестовой выборки\n",
        "logProbability1 = kde1.score_samples(dataTest.loc[dataTest['Response']==r, 'L1_S24_F1846'].values.reshape(-1, 1))\n",
        "# Заменяем бесконечные значения в массиве логарифмов плотности на -100\n",
        "logProbability1[np.isinf(logProbability1)] = -100 # заменяем -бесконечность\n",
        "# Вычисляем сумму логарифмов плотности вероятности\n",
        "logLikehood1 = logProbability1.sum()\n",
        "# Выводим на экран значение логарифма правдоподобия для целевой переменной r = 1\n",
        "print(logLikehood1)"
      ]
    },
    {
      "cell_type": "markdown",
      "metadata": {
        "id": "yY-9_M6-L5PI"
      },
      "source": [
        "### 3"
      ]
    },
    {
      "cell_type": "markdown",
      "metadata": {
        "id": "YGJroQaML5PI"
      },
      "source": [
        "Для найденных наилучших `bandwidth` вычислите `p(x|0)` и `p(x|1)` для тестовой выборки. "
      ]
    },
    {
      "cell_type": "code",
      "execution_count": 20,
      "metadata": {
        "id": "WnHKTTMGL5PK"
      },
      "outputs": [],
      "source": [
        "predictionProbXafter0 = np.exp(kde0.score_samples(dataTest['L1_S24_F1846'].values.reshape(-1, 1)))\n",
        "predictionProbXafter1 = np.exp(kde1.score_samples(dataTest['L1_S24_F1846'].values.reshape(-1, 1)))"
      ]
    },
    {
      "cell_type": "markdown",
      "metadata": {
        "id": "gxWTRGJVL5PK"
      },
      "source": [
        "По формуле Байеса найдите затем `p(0|x)` и `p(1|x)`. Отсортируйте все объекты тестовой выборки по возрастанию предсказанной вероятности `p(1|x)`, выведите на экран вероятности для последних 10 объектов и рассчитайте количество бракованных деталей среди последних 100 объектов в отсортированном ряду.\n",
        "\n",
        "*Help:*\n",
        "    \n",
        "    ind = np.argsort(predictionProb1afterX) - сортировка, возвращающая индексы элементов\n",
        "    print(predictionProb1afterX[ind[-10:]]) - вывод последних 10 элементов\n",
        "    print(sum(dataTest.loc[ind[-100:],'Response'])) - количество бракованных среди 100 с максимальной вероятностью брака"
      ]
    },
    {
      "cell_type": "code",
      "execution_count": 22,
      "metadata": {
        "id": "VLn23XkCL5PL",
        "colab": {
          "base_uri": "https://localhost:8080/"
        },
        "outputId": "0ee61ae8-9a4d-4316-f427-ff3445190cbe"
      },
      "outputs": [
        {
          "output_type": "stream",
          "name": "stdout",
          "text": [
            "[0.99137411 0.99182216 0.99182216 0.9919103  0.99195385 0.99195385\n",
            " 0.99216571 0.99216571 0.99244186 0.99245004]\n",
            "29\n"
          ]
        }
      ],
      "source": [
        "import numpy as np\n",
        "\n",
        "# считаем p(x|0) и p(x|1) для тестовой выборки\n",
        "predictionProbXafter0 = np.exp(kde0.score_samples(dataTest['L1_S24_F1846'].values.reshape(-1, 1)))\n",
        "predictionProbXafter1 = np.exp(kde1.score_samples(dataTest['L1_S24_F1846'].values.reshape(-1, 1)))\n",
        "\n",
        "# находим p(0|x) и p(1|x) по формуле Байеса\n",
        "p0givenX = predictionProbXafter0 / (predictionProbXafter0 + predictionProbXafter1)\n",
        "p1givenX = predictionProbXafter1 / (predictionProbXafter0 + predictionProbXafter1)\n",
        "\n",
        "# определение количества бракованных деталей среди последних 100 объектов в отсортированном ряду\n",
        "ind = np.argsort(p1givenX)\n",
        "print(p1givenX[ind[-10:]])\n",
        "print(sum(dataTest.loc[ind[-100:],'Response']))"
      ]
    }
  ],
  "metadata": {
    "kernelspec": {
      "display_name": "Python 3",
      "language": "python",
      "name": "python3"
    },
    "language_info": {
      "codemirror_mode": {
        "name": "ipython",
        "version": 3
      },
      "file_extension": ".py",
      "mimetype": "text/x-python",
      "name": "python",
      "nbconvert_exporter": "python",
      "pygments_lexer": "ipython3",
      "version": "3.6.5"
    },
    "colab": {
      "provenance": []
    }
  },
  "nbformat": 4,
  "nbformat_minor": 0
}